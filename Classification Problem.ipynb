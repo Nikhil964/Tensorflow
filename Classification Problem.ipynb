{
 "cells": [
  {
   "cell_type": "markdown",
   "metadata": {},
   "source": [
    "#### Classification Problem"
   ]
  },
  {
   "cell_type": "code",
   "execution_count": 1,
   "metadata": {
    "collapsed": true
   },
   "outputs": [],
   "source": [
    "import numpy as np\n",
    "\n",
    "import matplotlib.pyplot as plt\n",
    "\n",
    "%matplotlib inline"
   ]
  },
  {
   "cell_type": "markdown",
   "metadata": {},
   "source": [
    "### First, the (simulated) data."
   ]
  },
  {
   "cell_type": "code",
   "execution_count": 2,
   "metadata": {
    "collapsed": true
   },
   "outputs": [],
   "source": [
    "\n",
    "# red class  =  class 0\n",
    "\n",
    "x0 = np.random.normal(2, 1, (60, 1))\n",
    "y0 = np.random.normal(1, 1, (60, 1))\n",
    "\n",
    "# green class  =  class 1\n",
    "\n",
    "x1 = np.random.normal(5, 1, (70, 1))\n",
    "y1 = np.random.normal(4, 1, (70, 1))\n",
    "\n",
    "# blue class  =  class 2\n",
    "\n",
    "x2 = np.random.normal(3, 1, (80, 1))\n",
    "y2 = np.random.normal(7, 1, (80, 1))\n",
    "\n",
    "# yellow class  =  class 3\n",
    "\n",
    "x3 = np.random.normal(8, 1, (90, 1))\n",
    "y3 = np.random.normal(0, 1, (90, 1))\n",
    "\n"
   ]
  },
  {
   "cell_type": "code",
   "execution_count": 3,
   "metadata": {},
   "outputs": [
    {
     "data": {
      "image/png": "[encoded data removed]",
      "text/plain": [
       "<matplotlib.figure.Figure at 0x10c587390>"
      ]
     },
     "metadata": {},
     "output_type": "display_data"
    }
   ],
   "source": [
    "plt.scatter(x0, y0, c='r', marker='o', s=40)\n",
    "plt.scatter(x1, y1, c='g', marker='x', s=40)\n",
    "plt.scatter(x2, y2, c='b', marker='x', s=40)\n",
    "plt.scatter(x3, y3, c='y', marker='o', s=40)\n",
    "\n",
    "plt.show()"
   ]
  },
  {
   "cell_type": "markdown",
   "metadata": {},
   "source": [
    "###  Combine the data into a single tensor."
   ]
  },
  {
   "cell_type": "code",
   "execution_count": 4,
   "metadata": {
    "collapsed": true
   },
   "outputs": [],
   "source": [
    "d0 = np.hstack((x0, y0))\n",
    "d1 = np.hstack((x1, y1))\n",
    "d2 = np.hstack((x2, y2))\n",
    "d3 = np.hstack((x3, y3))\n",
    "\n",
    "feature_xy = np.vstack((d0, d1, d2, d3))"
   ]
  },
  {
   "cell_type": "code",
   "execution_count": 5,
   "metadata": {},
   "outputs": [
    {
     "data": {
      "text/plain": [
       "(300, 2)"
      ]
     },
     "execution_count": 5,
     "metadata": {},
     "output_type": "execute_result"
    }
   ],
   "source": [
    "#   show shape of feature_xy\n",
    "feature_xy.shape"
   ]
  },
  {
   "cell_type": "markdown",
   "metadata": {},
   "source": [
    "### Make one-hot encoding of the (desired) target classes"
   ]
  },
  {
   "cell_type": "code",
   "execution_count": 6,
   "metadata": {
    "collapsed": true
   },
   "outputs": [],
   "source": [
    "expected_class = np.matrix([[1., 0., 0., 0.]] * len(x0) \\\n",
    "                        +  [[0., 1., 0., 0.]] * len(x1) \\\n",
    "                        +  [[0., 0., 1., 0.]] * len(x2) \\\n",
    "                        +  [[0., 0., 0., 1.]] * len(x3) )"
   ]
  },
  {
   "cell_type": "markdown",
   "metadata": {},
   "source": [
    "### Shuffle the data points (and corresponding classes)\n",
    "### to avoid skewing the learning."
   ]
  },
  {
   "cell_type": "code",
   "execution_count": 7,
   "metadata": {
    "collapsed": true
   },
   "outputs": [],
   "source": [
    "indices = np.arange(feature_xy.shape[0])\n",
    "\n",
    "np.random.shuffle(indices)\n",
    "\n",
    "feature_xy = feature_xy[indices, :]\n",
    "\n",
    "expected_class = expected_class[indices, :]"
   ]
  },
  {
   "cell_type": "markdown",
   "metadata": {},
   "source": [
    "### The usual."
   ]
  },
  {
   "cell_type": "code",
   "execution_count": 8,
   "metadata": {},
   "outputs": [
    {
     "name": "stderr",
     "output_type": "stream",
     "text": [
      "/Users/nikhilkatukuri/Desktop/anaconda/anaconda3/lib/python3.6/site-packages/h5py/__init__.py:34: FutureWarning: Conversion of the second argument of issubdtype from `float` to `np.floating` is deprecated. In future, it will be treated as `np.float64 == np.dtype(float).type`.\n",
      "  from ._conv import register_converters as _register_converters\n"
     ]
    }
   ],
   "source": [
    "import tensorflow as tf"
   ]
  },
  {
   "cell_type": "markdown",
   "metadata": {},
   "source": [
    "### Hyper-parameters.   Play with these, to see if they make a difference."
   ]
  },
  {
   "cell_type": "code",
   "execution_count": 9,
   "metadata": {
    "collapsed": true
   },
   "outputs": [],
   "source": [
    "learning_rate = 0.03\n",
    "training_epochs = 10000\n",
    "\n",
    "num_classes = 4\n",
    "batch_size = 100"
   ]
  },
  {
   "cell_type": "markdown",
   "metadata": {},
   "source": [
    "###  The feature tensor shape."
   ]
  },
  {
   "cell_type": "code",
   "execution_count": 10,
   "metadata": {
    "collapsed": true
   },
   "outputs": [],
   "source": [
    "training_size, num_features = feature_xy.shape"
   ]
  },
  {
   "cell_type": "markdown",
   "metadata": {},
   "source": [
    "###  1. Make placeholders X and Y for model inputs and corresponding desired classes."
   ]
  },
  {
   "cell_type": "code",
   "execution_count": 11,
   "metadata": {
    "collapsed": true
   },
   "outputs": [],
   "source": [
    "X = tf.placeholder(tf.float32,[None,2])\n",
    "Y = tf.placeholder(tf.float32,[None,4])"
   ]
  },
  {
   "cell_type": "markdown",
   "metadata": {},
   "source": [
    "### 2. Make variables W and b for the weights and biases of the TensorFlow model."
   ]
  },
  {
   "cell_type": "code",
   "execution_count": 12,
   "metadata": {
    "collapsed": true
   },
   "outputs": [],
   "source": [
    "W = tf.Variable(tf.zeros([2,4]))\n",
    "b = tf.Variable(tf.zeros([4]))"
   ]
  },
  {
   "cell_type": "markdown",
   "metadata": {},
   "source": [
    "###  3. Define the model, i.e. the model output.  I just call it model.\n",
    "###      Use the sigmoid activation. Softmax the output, of course."
   ]
  },
  {
   "cell_type": "code",
   "execution_count": 13,
   "metadata": {
    "collapsed": true
   },
   "outputs": [],
   "source": [
    "model = tf.nn.softmax(tf.nn.sigmoid(tf.add(tf.matmul(X,W), b)))"
   ]
  },
  {
   "cell_type": "markdown",
   "metadata": {},
   "source": [
    "### 4. Define the loss (cost) function as the cross-entropy \n",
    "### between desired class and actual class computed by model."
   ]
  },
  {
   "cell_type": "code",
   "execution_count": 14,
   "metadata": {
    "collapsed": true
   },
   "outputs": [],
   "source": [
    "loss = tf.reduce_mean(-tf.reduce_sum(Y*tf.log(model),reduction_indices=1))"
   ]
  },
  {
   "cell_type": "markdown",
   "metadata": {},
   "source": [
    "### 5. Define minimizer for the loss function."
   ]
  },
  {
   "cell_type": "code",
   "execution_count": 15,
   "metadata": {
    "collapsed": true
   },
   "outputs": [],
   "source": [
    "minimizer = tf.train.GradientDescentOptimizer(learning_rate).minimize(loss)"
   ]
  },
  {
   "cell_type": "markdown",
   "metadata": {},
   "source": [
    "### 6. Make the Session object, and\n",
    "###     initialize global variables."
   ]
  },
  {
   "cell_type": "code",
   "execution_count": 16,
   "metadata": {
    "collapsed": true
   },
   "outputs": [],
   "source": [
    "init = tf.global_variables_initializer()"
   ]
  },
  {
   "cell_type": "code",
   "execution_count": 17,
   "metadata": {
    "collapsed": true
   },
   "outputs": [],
   "source": [
    "sess = tf.Session()"
   ]
  },
  {
   "cell_type": "code",
   "execution_count": 18,
   "metadata": {
    "collapsed": true
   },
   "outputs": [],
   "source": [
    "sess.run(init)"
   ]
  },
  {
   "cell_type": "markdown",
   "metadata": {},
   "source": [
    "### The batch training"
   ]
  },
  {
   "cell_type": "code",
   "execution_count": 19,
   "metadata": {},
   "outputs": [
    {
     "name": "stdout",
     "output_type": "stream",
     "text": [
      "0 1.3862948\n",
      "200 1.1396185\n",
      "400 1.0640599\n",
      "600 1.0380889\n",
      "800 1.0653119\n",
      "1000 1.0081663\n",
      "1200 0.99095994\n",
      "1400 1.0342774\n",
      "1600 0.98669344\n",
      "1800 0.96933854\n",
      "2000 1.0150837\n",
      "2200 0.97327864\n",
      "2400 0.9546249\n",
      "2600 1.000498\n",
      "2800 0.96314394\n",
      "3000 0.94339544\n",
      "3200 0.98883665\n",
      "3400 0.9549814\n",
      "3600 0.9344484\n",
      "3800 0.9793162\n",
      "4000 0.94820464\n",
      "4200 0.9271479\n",
      "4400 0.9714247\n",
      "4600 0.9424671\n",
      "4800 0.9210832\n",
      "5000 0.9647909\n",
      "5200 0.9375348\n",
      "5400 0.9159666\n",
      "5600 0.9591386\n",
      "5800 0.93323946\n",
      "6000 0.9115897\n",
      "6200 0.9542606\n",
      "6400 0.92945635\n",
      "6600 0.9077985\n",
      "6800 0.95000076\n",
      "7000 0.92609084\n",
      "7200 0.90447736\n",
      "7400 0.94624025\n",
      "7600 0.9230702\n",
      "7800 0.9015385\n",
      "8000 0.94288766\n",
      "8200 0.9203376\n",
      "8400 0.8989141\n",
      "8600 0.9398725\n",
      "8800 0.9178484\n",
      "9000 0.89655167\n",
      "9200 0.937139\n",
      "9400 0.9155668\n",
      "9600 0.89440936\n",
      "9800 0.9346435\n",
      "10000 0.91346395\n",
      "10200 0.89245415\n",
      "10400 0.93235064\n",
      "10600 0.91151613\n",
      "10800 0.89065933\n",
      "11000 0.93023187\n",
      "11200 0.90970415\n",
      "11400 0.88900316\n",
      "11600 0.9282641\n",
      "11800 0.9080117\n",
      "12000 0.88746756\n",
      "12200 0.9264284\n",
      "12400 0.9064253\n",
      "12600 0.8860379\n",
      "12800 0.92470855\n",
      "13000 0.90493375\n",
      "13200 0.8847016\n",
      "13400 0.92309165\n",
      "13600 0.9035271\n",
      "13800 0.88344824\n",
      "14000 0.9215665\n",
      "14200 0.9021971\n",
      "14400 0.88226897\n",
      "14600 0.9201237\n",
      "14800 0.9009367\n",
      "15000 0.88115615\n",
      "15200 0.9187549\n",
      "15400 0.8997397\n",
      "15600 0.88010335\n",
      "15800 0.9174536\n",
      "16000 0.89860034\n",
      "16200 0.8791049\n",
      "16400 0.9162137\n",
      "16600 0.89751405\n",
      "16800 0.87815595\n",
      "17000 0.91503\n",
      "17200 0.89647675\n",
      "17400 0.87725204\n",
      "17600 0.913898\n",
      "17800 0.8954847\n",
      "18000 0.8763896\n",
      "18200 0.9128139\n",
      "18400 0.89453447\n",
      "18600 0.8755652\n",
      "18800 0.911774\n",
      "19000 0.89362305\n",
      "19200 0.8747758\n",
      "19400 0.91077536\n",
      "19600 0.8927477\n",
      "19800 0.874019\n",
      "20000 0.9098153\n",
      "20200 0.89190644\n",
      "20400 0.8732924\n",
      "20600 0.90889114\n",
      "20800 0.89109665\n",
      "21000 0.87259364\n",
      "21200 0.908001\n",
      "21400 0.89031637\n",
      "21600 0.87192106\n",
      "21800 0.90714264\n",
      "22000 0.88956404\n",
      "22200 0.87127286\n",
      "22400 0.9063144\n",
      "22600 0.88883805\n",
      "22800 0.8706476\n",
      "23000 0.90551454\n",
      "23200 0.88813645\n",
      "23400 0.8700439\n",
      "23600 0.9047415\n",
      "23800 0.8874583\n",
      "24000 0.86946017\n",
      "24200 0.90399414\n",
      "24400 0.8868021\n",
      "24600 0.8688956\n",
      "24800 0.903271\n",
      "25000 0.8861668\n",
      "25200 0.86834884\n",
      "25400 0.9025711\n",
      "25600 0.8855513\n",
      "25800 0.867819\n",
      "26000 0.90189314\n",
      "26200 0.8849545\n",
      "26400 0.86730516\n",
      "26600 0.9012363\n",
      "26800 0.88437545\n",
      "27000 0.8668065\n",
      "27200 0.90059936\n",
      "27400 0.8838135\n",
      "27600 0.8663224\n",
      "27800 0.89998174\n",
      "28000 0.8832675\n",
      "28200 0.8658519\n",
      "28400 0.8993825\n",
      "28600 0.8827372\n",
      "28800 0.8653946\n",
      "29000 0.8988007\n",
      "29200 0.8822215\n",
      "29400 0.8649496\n",
      "29600 0.8982358\n",
      "29800 0.88172007\n"
     ]
    }
   ],
   "source": [
    "for step in range(training_epochs * training_size // batch_size):\n",
    "    offset = (step * batch_size) % training_size\n",
    "    batch_data = feature_xy[offset:(offset + batch_size), :]\n",
    "    batch_classes = expected_class[offset:(offset + batch_size)]\n",
    "    err, _ = sess.run([loss, minimizer], feed_dict={X: batch_data, Y: batch_classes})\n",
    "    if step % 200 == 0:\n",
    "        print (step, err)"
   ]
  },
  {
   "cell_type": "markdown",
   "metadata": {},
   "source": [
    "###  7. Show the weights and biases obtained for the model, after training."
   ]
  },
  {
   "cell_type": "code",
   "execution_count": 20,
   "metadata": {},
   "outputs": [
    {
     "data": {
      "text/plain": [
       "<tf.Variable 'Variable:0' shape=(2, 4) dtype=float32_ref>"
      ]
     },
     "execution_count": 20,
     "metadata": {},
     "output_type": "execute_result"
    }
   ],
   "source": [
    "W"
   ]
  },
  {
   "cell_type": "code",
   "execution_count": 21,
   "metadata": {
    "collapsed": true
   },
   "outputs": [],
   "source": [
    "learned_w = sess.run(W)"
   ]
  },
  {
   "cell_type": "code",
   "execution_count": 22,
   "metadata": {},
   "outputs": [
    {
     "name": "stdout",
     "output_type": "stream",
     "text": [
      "[[-1.405062  -0.2914155 -2.445608   1.3151292]\n",
      " [-1.0732813  2.66165    2.5334601 -2.5686588]]\n"
     ]
    }
   ],
   "source": [
    "print(learned_w)"
   ]
  },
  {
   "cell_type": "code",
   "execution_count": 23,
   "metadata": {},
   "outputs": [
    {
     "data": {
      "text/plain": [
       "<tf.Variable 'Variable_1:0' shape=(4,) dtype=float32_ref>"
      ]
     },
     "execution_count": 23,
     "metadata": {},
     "output_type": "execute_result"
    }
   ],
   "source": [
    "b"
   ]
  },
  {
   "cell_type": "code",
   "execution_count": 24,
   "metadata": {
    "collapsed": true
   },
   "outputs": [],
   "source": [
    "learned_b = sess.run(b)"
   ]
  },
  {
   "cell_type": "code",
   "execution_count": 25,
   "metadata": {},
   "outputs": [
    {
     "name": "stdout",
     "output_type": "stream",
     "text": [
      "[ 7.1804366 -3.574995  -2.4943066 -3.3322592]\n"
     ]
    }
   ],
   "source": [
    "print(learned_b)"
   ]
  },
  {
   "cell_type": "markdown",
   "metadata": {},
   "source": [
    "###  Make a few predictions."
   ]
  },
  {
   "cell_type": "code",
   "execution_count": 26,
   "metadata": {},
   "outputs": [
    {
     "name": "stdout",
     "output_type": "stream",
     "text": [
      "[3]\n"
     ]
    }
   ],
   "source": [
    "feed_dict = { X: [[8.0,-1.0]] }    # input X must be of shape [None,2]\n",
    "class_vector = sess.run(model, feed_dict)\n",
    "class_number = sess.run(tf.argmax(class_vector,1))\n",
    "print(class_number)"
   ]
  },
  {
   "cell_type": "code",
   "execution_count": 27,
   "metadata": {},
   "outputs": [
    {
     "name": "stdout",
     "output_type": "stream",
     "text": [
      "[1]\n"
     ]
    }
   ],
   "source": [
    "feed_dict = { X: [[5.0,2.0]] }    # input X must be of shape [None,2]\n",
    "class_vector = sess.run(model, feed_dict)\n",
    "class_number = sess.run(tf.argmax(class_vector,1))\n",
    "print(class_number)"
   ]
  },
  {
   "cell_type": "code",
   "execution_count": 28,
   "metadata": {},
   "outputs": [
    {
     "name": "stdout",
     "output_type": "stream",
     "text": [
      "[2]\n"
     ]
    }
   ],
   "source": [
    "feed_dict = { X: [[-3.0,5.0]] }    # input X must be of shape [None,2]\n",
    "class_vector = sess.run(model, feed_dict)\n",
    "class_number = sess.run(tf.argmax(class_vector,1))\n",
    "print(class_number)"
   ]
  },
  {
   "cell_type": "code",
   "execution_count": 29,
   "metadata": {},
   "outputs": [
    {
     "name": "stdout",
     "output_type": "stream",
     "text": [
      "[0]\n"
     ]
    }
   ],
   "source": [
    "feed_dict = { X: [[0.0,0.0]] }    # input X must be of shape [None,2]\n",
    "class_vector = sess.run(model, feed_dict)\n",
    "class_number = sess.run(tf.argmax(class_vector,1))\n",
    "print(class_number)"
   ]
  },
  {
   "cell_type": "markdown",
   "metadata": {},
   "source": [
    "### Making an accuracy node."
   ]
  },
  {
   "cell_type": "code",
   "execution_count": 30,
   "metadata": {
    "collapsed": true
   },
   "outputs": [],
   "source": [
    "correct_prediction = tf.equal(tf.argmax(model, 1), tf.argmax(Y, 1))\n",
    "accuracy = tf.reduce_mean(tf.cast(correct_prediction, \"float\"))"
   ]
  },
  {
   "cell_type": "markdown",
   "metadata": {},
   "source": [
    "### Use on the original data."
   ]
  },
  {
   "cell_type": "code",
   "execution_count": 31,
   "metadata": {
    "collapsed": true
   },
   "outputs": [],
   "source": [
    "training_accuracy = sess.run([accuracy], feed_dict={X: feature_xy, Y: expected_class})"
   ]
  },
  {
   "cell_type": "code",
   "execution_count": 32,
   "metadata": {},
   "outputs": [
    {
     "name": "stdout",
     "output_type": "stream",
     "text": [
      "[0.7]\n"
     ]
    }
   ],
   "source": [
    "print(training_accuracy)"
   ]
  },
  {
   "cell_type": "markdown",
   "metadata": {
    "collapsed": true
   },
   "source": [
    "### 8. Make test data similar to the provided data above.\n",
    "###     Just 10 datapoints for each of the 4 classes."
   ]
  },
  {
   "cell_type": "code",
   "execution_count": 33,
   "metadata": {
    "collapsed": true
   },
   "outputs": [],
   "source": [
    "# red class  =  class 0\n",
    "\n",
    "x0 = np.random.normal(3, 3, (10, 1))\n",
    "y0 = np.random.normal(5, 3, (10, 1))\n",
    "\n",
    "# green class  =  class 1\n",
    "\n",
    "x1 = np.random.normal(7, 3, (10, 1))\n",
    "y1 = np.random.normal(2, 3, (10, 1))\n",
    "\n",
    "# blue class  =  class 2\n",
    "\n",
    "x2 = np.random.normal(8, 3, (10, 1))\n",
    "y2 = np.random.normal(1, 3, (10, 1))\n",
    "\n",
    "# yellow class  =  class 3\n",
    "\n",
    "x3 = np.random.normal(6, 3, (10, 1))\n",
    "y3 = np.random.normal(4, 3, (10, 1))\n",
    "\n",
    "\n"
   ]
  },
  {
   "cell_type": "code",
   "execution_count": 34,
   "metadata": {},
   "outputs": [
    {
     "data": {
      "image/png": "[encoded data removed]",
      "text/plain": [
       "<matplotlib.figure.Figure at 0x181c76aa90>"
      ]
     },
     "metadata": {},
     "output_type": "display_data"
    }
   ],
   "source": [
    "plt.scatter(x0, y0, c='r', marker='x', s=40)\n",
    "plt.scatter(x1, y1, c='g', marker='o', s=40)\n",
    "plt.scatter(x2, y2, c='b', marker='o', s=40)\n",
    "plt.scatter(x3, y3, c='y', marker='x', s=40)\n",
    "\n",
    "plt.show()"
   ]
  },
  {
   "cell_type": "code",
   "execution_count": 35,
   "metadata": {
    "collapsed": true
   },
   "outputs": [],
   "source": [
    "d0 = np.hstack((x0, y0))\n",
    "d1 = np.hstack((x1, y1))\n",
    "d2 = np.hstack((x2, y2))\n",
    "d3 = np.hstack((x3, y3))\n",
    "\n",
    "test_xy= np.vstack((d0, d1, d2, d3))"
   ]
  },
  {
   "cell_type": "code",
   "execution_count": 36,
   "metadata": {},
   "outputs": [
    {
     "data": {
      "text/plain": [
       "(40, 2)"
      ]
     },
     "execution_count": 36,
     "metadata": {},
     "output_type": "execute_result"
    }
   ],
   "source": [
    "test_xy.shape"
   ]
  },
  {
   "cell_type": "markdown",
   "metadata": {},
   "source": [
    "###  9. Run the training on the test data."
   ]
  },
  {
   "cell_type": "code",
   "execution_count": 37,
   "metadata": {
    "collapsed": true
   },
   "outputs": [],
   "source": [
    "training_size, num_features = test_xy.shape"
   ]
  },
  {
   "cell_type": "code",
   "execution_count": 38,
   "metadata": {
    "collapsed": true
   },
   "outputs": [],
   "source": [
    "expected_class = np.matrix([[1., 0., 0., 0.]] * len(x0) \\\n",
    "                        +  [[0., 1., 0., 0.]] * len(x1) \\\n",
    "                        +  [[0., 0., 1., 0.]] * len(x2) \\\n",
    "                        +  [[0., 0., 0., 1.]] * len(x3) )"
   ]
  },
  {
   "cell_type": "code",
   "execution_count": 39,
   "metadata": {},
   "outputs": [
    {
     "name": "stdout",
     "output_type": "stream",
     "text": [
      "0 1.5708828\n",
      "200 1.5398535\n",
      "400 1.5147091\n",
      "600 1.4650052\n",
      "800 1.4231989\n",
      "1000 1.4148304\n",
      "1200 1.412289\n",
      "1400 1.4003936\n",
      "1600 1.3940164\n",
      "1800 1.3897252\n",
      "2000 1.3856654\n",
      "2200 1.3849497\n",
      "2400 1.384502\n",
      "2600 1.3841177\n",
      "2800 1.3837693\n",
      "3000 1.3834448\n",
      "3200 1.3831362\n",
      "3400 1.3828356\n",
      "3600 1.3825368\n",
      "3800 1.382233\n"
     ]
    }
   ],
   "source": [
    "for step in range(training_epochs * training_size // batch_size):\n",
    "    offset = (step * batch_size) % training_size\n",
    "    test_data = test_xy[offset:(offset + batch_size), :]\n",
    "    batch_classes = expected_class[offset:(offset + batch_size)]\n",
    "    err, _ = sess.run([loss, minimizer], feed_dict={X: test_data, Y: batch_classes})\n",
    "    if step % 200 == 0:\n",
    "        print (step, err)"
   ]
  },
  {
   "cell_type": "markdown",
   "metadata": {},
   "source": [
    "###  10. Use accuracy node on your test data."
   ]
  },
  {
   "cell_type": "code",
   "execution_count": 40,
   "metadata": {
    "collapsed": true
   },
   "outputs": [],
   "source": [
    "training_accuracy = sess.run([accuracy], feed_dict={X: test_xy, Y: expected_class})"
   ]
  },
  {
   "cell_type": "code",
   "execution_count": 41,
   "metadata": {},
   "outputs": [
    {
     "name": "stdout",
     "output_type": "stream",
     "text": [
      "[0.3]\n"
     ]
    }
   ],
   "source": [
    "print(training_accuracy)"
   ]
  },
  {
   "cell_type": "code",
   "execution_count": null,
   "metadata": {
    "collapsed": true
   },
   "outputs": [],
   "source": []
  },
  {
   "cell_type": "code",
   "execution_count": null,
   "metadata": {
    "collapsed": true
   },
   "outputs": [],
   "source": []
  }
 ],
 "metadata": {
  "kernelspec": {
   "display_name": "Python 3",
   "language": "python",
   "name": "python3"
  },
  "language_info": {
   "codemirror_mode": {
    "name": "ipython",
    "version": 3
   },
   "file_extension": ".py",
   "mimetype": "text/x-python",
   "name": "python",
   "nbconvert_exporter": "python",
   "pygments_lexer": "ipython3",
   "version": "3.6.3"
  }
 },
 "nbformat": 4,
 "nbformat_minor": 1
}
